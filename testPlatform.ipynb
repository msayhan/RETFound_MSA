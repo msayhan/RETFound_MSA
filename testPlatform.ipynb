{
 "cells": [
  {
   "cell_type": "code",
   "execution_count": 1,
   "id": "1ec6a68f",
   "metadata": {},
   "outputs": [
    {
     "name": "stdout",
     "output_type": "stream",
     "text": [
      "Platform : macOS-15.4.1-arm64-arm-64bit\n",
      "PyTroch version : 2.6.0\n",
      "Python version : 3.12.7 | packaged by Anaconda, Inc. | (main, Oct  4 2024, 08:22:19) [Clang 14.0.6 ]\n",
      "GPU (CUDA) available : False\n",
      "Apple Metal (MPS) available : True\n",
      "timm version : 1.0.15\n",
      "Target device : mps\n"
     ]
    }
   ],
   "source": [
    "# adopted from Jeff Heaton's t81_558 Applied Deep Learning Course\n",
    "import sys\n",
    "import platform\n",
    "import torch\n",
    "import pandas as pd\n",
    "import numpy as np\n",
    "import sklearn\n",
    "import timm\n",
    "\n",
    "has_gpu = torch.cuda.is_available()\n",
    "has_mps = torch.backends.mps.is_built() #getattr(torch, 'has_mps', False)\n",
    "device = 'mps' if torch.backends.mps.is_built() else 'gpu' if torch.cuda.is_available() else 'cpu'\n",
    "\n",
    "print(f'Platform : {platform.platform()}')\n",
    "print(f'PyTroch version : {torch.__version__}')\n",
    "print(f'Python version : {sys.version}')\n",
    "print(f'GPU (CUDA) available : {has_gpu}')\n",
    "print(f'Apple Metal (MPS) available : {has_mps}')\n",
    "print(f'timm version : {timm.__version__}')\n",
    "\n",
    "if has_gpu:\n",
    "    # print(f'Max float : {sys.float_info.max}')\n",
    "    print(f'Number of GPUs : {torch.cuda.device_count()}')\n",
    "    print(f'CUDA Version : {torch.version.cuda}')\n",
    "\n",
    "print(f'Target device : {device}')"
   ]
  }
 ],
 "metadata": {
  "kernelspec": {
   "display_name": "robustretfound_venv",
   "language": "python",
   "name": "python3"
  },
  "language_info": {
   "codemirror_mode": {
    "name": "ipython",
    "version": 3
   },
   "file_extension": ".py",
   "mimetype": "text/x-python",
   "name": "python",
   "nbconvert_exporter": "python",
   "pygments_lexer": "ipython3",
   "version": "3.12.7"
  }
 },
 "nbformat": 4,
 "nbformat_minor": 5
}
